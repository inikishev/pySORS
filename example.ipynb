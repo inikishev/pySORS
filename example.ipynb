{
 "cells": [
  {
   "cell_type": "markdown",
   "metadata": {},
   "source": [
    "# Minimize interface"
   ]
  },
  {
   "cell_type": "code",
   "execution_count": 1,
   "metadata": {},
   "outputs": [
    {
     "name": "stdout",
     "output_type": "stream",
     "text": [
      "lowest value: 9.93500330559321e-09\n",
      "number of function evaluations: 13248\n",
      "You can access the solution array under `x` attribute.\n",
      "res.x = array([0.99990304, 0.99980378])\n"
     ]
    }
   ],
   "source": [
    "import pysors\n",
    "import numpy as np\n",
    "\n",
    "# define objective function\n",
    "def rosenbrock(arr):\n",
    "    x,y = arr\n",
    "    a = 1\n",
    "    b = 100\n",
    "    return (a - x) ** 2 + b * (y - x ** 2) ** 2\n",
    "\n",
    "# minimize it\n",
    "res = pysors.minimize(rosenbrock, x0 = np.array([-3.,-4.]), method = 'bds', stopval=1e-8)\n",
    "\n",
    "# results\n",
    "print(res)\n",
    "print(f'{res.x = }')"
   ]
  },
  {
   "cell_type": "markdown",
   "metadata": {},
   "source": [
    "# Step interface"
   ]
  },
  {
   "cell_type": "code",
   "execution_count": 8,
   "metadata": {},
   "outputs": [
    {
     "name": "stdout",
     "output_type": "stream",
     "text": [
      "[1.0190131  1.03786421]\n",
      "0.00038890181028200695\n"
     ]
    }
   ],
   "source": [
    "# those hyperparams were found using hyperparameter search\n",
    "hyperparams = {'a_init': 4.352007678883365,\n",
    " 'c_init': 0.004018636235598696,\n",
    " 'beta': 2.000521281764176,\n",
    " 'sigma_1': 0.736538615869831,\n",
    " 'sigma_2': 0.1542205611560199,\n",
    " 'distribution': 'Normal',\n",
    " 'step_upd': 'inv_sqrt',\n",
    " 'theta': 1.4135364318214703,\n",
    " 'T_half': 1}\n",
    "\n",
    "x = np.array([-3., -4.])\n",
    "opt = pysors.RSPI_SPSA(**hyperparams)\n",
    "\n",
    "# do 1000 steps.\n",
    "# note that each step evaluates the objective function multiple times.\n",
    "for i in range(1000):\n",
    "    x = opt.step(rosenbrock, x)\n",
    "\n",
    "\n",
    "print(x) # last array (not necessarily best!)\n",
    "print(rosenbrock(x)) # value at last array"
   ]
  }
 ],
 "metadata": {
  "kernelspec": {
   "display_name": "pytorch312",
   "language": "python",
   "name": "python3"
  },
  "language_info": {
   "codemirror_mode": {
    "name": "ipython",
    "version": 3
   },
   "file_extension": ".py",
   "mimetype": "text/x-python",
   "name": "python",
   "nbconvert_exporter": "python",
   "pygments_lexer": "ipython3",
   "version": "3.12.4"
  }
 },
 "nbformat": 4,
 "nbformat_minor": 2
}
